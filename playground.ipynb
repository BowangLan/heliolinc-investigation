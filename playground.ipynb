{
 "cells": [
  {
   "cell_type": "code",
   "execution_count": 1,
   "metadata": {},
   "outputs": [],
   "source": [
    "import numpy as np\n",
    "\n",
    "import astropy.table as tb \n",
    "from astropy.time import Time  \n",
    "from astropy import units as u\n",
    "\n",
    "from spacerocks.units import Units\n",
    "from spacerocks.simulation import Simulation\n",
    "from spacerocks.model import PerturberModel, builtin_models\n",
    "from spacerocks.cbindings import correct_for_ltt_destnosim\n",
    "from spacerocks.observer import Observer\n",
    "from spacerocks.constants import epsilon"
   ]
  },
  {
   "cell_type": "code",
   "execution_count": 5,
   "metadata": {},
   "outputs": [],
   "source": [
    "from utils import createRandomObjects\n",
    "import destnosim"
   ]
  },
  {
   "cell_type": "code",
   "execution_count": 6,
   "metadata": {},
   "outputs": [],
   "source": [
    "mjd = [52222, 53333]\n",
    "objs = createRandomObjects(100)\n",
    "population = destnosim.ElementPopulation(objs, 16)\n",
    "times = Time(mjd, format='mjd', scale='utc')\n",
    "rocks = population.generateSpaceRocks()"
   ]
  },
  {
   "cell_type": "code",
   "execution_count": 10,
   "metadata": {},
   "outputs": [
    {
     "data": {
      "text/plain": [
       "array([2452222.5, 2453333.5])"
      ]
     },
     "execution_count": 10,
     "metadata": {},
     "output_type": "execute_result"
    }
   ],
   "source": [
    "times.jd"
   ]
  },
  {
   "cell_type": "code",
   "execution_count": 19,
   "metadata": {},
   "outputs": [
    {
     "data": {
      "text/plain": [
       "array([0.67823096])"
      ]
     },
     "execution_count": 19,
     "metadata": {},
     "output_type": "execute_result"
    }
   ],
   "source": [
    "obs = Observer.from_obscode('W84').at(times.jd[0])\n",
    "obs.x.au.astype(np.double)"
   ]
  },
  {
   "cell_type": "code",
   "execution_count": null,
   "metadata": {},
   "outputs": [],
   "source": []
  },
  {
   "cell_type": "code",
   "execution_count": null,
   "metadata": {},
   "outputs": [],
   "source": [
    "\n",
    "\n",
    "def c1(population, mjd, progress=False):\n",
    "\t'''\n",
    "\tCalls the Spacerocks backend to generate observations for the input population\n",
    "\n",
    "\n",
    "\tArguments:\n",
    "\t- population: Population object for the input orbits\n",
    "\t'''\n",
    "\t## first set up times and do spacerock stuff\n",
    "\n",
    "\t#self.createEarthSpaceRock()\n",
    "\ttimes = Time(mjd, format='mjd', scale='utc')\n",
    "\trocks = population.generateSpaceRocks()\n",
    "\n",
    "\tunits = Units()\n",
    "\tunits.timescale = 'utc'\n",
    "\tunits.timeformat = 'jd'\n",
    "\tunits.mass = u.M_sun\n",
    "    \n",
    "\tspiceids, kernel, masses = builtin_models['ORBITSPP']\n",
    "\tmodel = PerturberModel(spiceids=spiceids, masses=masses)\n",
    "\t\n",
    "\tsim = Simulation(model=model, epoch=times.jd[0], units=units)\n",
    "\tsim.add_spacerocks(rocks)\n",
    "\tsim.integrator = 'leapfrog'\n",
    "\n",
    "\tras = np.array([])\n",
    "\tdecs = np.array([])\n",
    "\torbitid = np.array([])\n",
    "\tmjds = np.array([])\n",
    "\toidlist = np.arange(len(population))\n",
    "\txList = np.array([])\n",
    "\tyList = np.array([])\n",
    "\tzList = np.array([])\n",
    "\tdList = np.array([])\n",
    "\n",
    "\tif progress == True:\n",
    "\t\tfrom rich.progress import track\n",
    "\t\tepochs = track(range(len(times.jd)))\n",
    "\telse:\n",
    "\t\tepochs = range(len(times.jd))\n",
    "\n",
    "\tfor i in epochs:\n",
    "\t\tsim.integrate(times.jd[i], exact_finish_time=1)\n",
    "\t\ta = np.zeros((sim.N, 3), dtype=np.double)\n",
    "\t\tb = np.zeros((sim.N, 3), dtype=np.double)\n",
    "\t\tsim.serialize_particle_data(xyz=a, vxvyvz=b)\n",
    "\t\tx, y, z = a.T\n",
    "\t\tvx, vy, vz = b.T\n",
    "    \n",
    "\t\tx = np.ascontiguousarray(x)[sim.N_active:]\n",
    "\t\ty = np.ascontiguousarray(y)[sim.N_active:]\n",
    "\t\tz = np.ascontiguousarray(z)[sim.N_active:]\n",
    "\t\tvx = np.ascontiguousarray(vx)[sim.N_active:]\n",
    "\t\tvy = np.ascontiguousarray(vy)[sim.N_active:]\n",
    "\t\tvz = np.ascontiguousarray(vz)[sim.N_active:]\n",
    "\n",
    "\t\tnp.append(xList, x)\n",
    "\t\tnp.append(yList, y)\n",
    "\t\tnp.append(zList, z)\n",
    "\t\tnp.append(dList, np.sqrt(x**2 + y**2 + z**2))\n",
    "\n",
    "\t\t# observer = Observer(epoch=times.jd[i], obscode='W84', units=units)\n",
    "\t\tobserver = Observer.from_obscode('W84').at(times.jd[i])\n",
    "\t\tox = observer.x.au.astype(np.double)\n",
    "\t\toy = observer.y.au.astype(np.double)\n",
    "\t\toz = observer.z.au.astype(np.double)\n",
    "\t\tovx = observer.vx.value.astype(np.double)\n",
    "\t\tovy = observer.vy.value.astype(np.double)\n",
    "\t\tovz = observer.vz.value.astype(np.double)\n",
    "\t\t\n",
    "\t\t# Compute ltt-corrected topocentroc Ecliptic coordinates\n",
    "\t\txt, yt, zt = correct_for_ltt_destnosim(x, y, z, vx, vy, vz, ox, oy, oz, ovx, ovy, ovz)\n",
    "\t\tlon = np.arctan2(yt, xt)\n",
    "\t\tlat = np.arcsin(zt / np.sqrt(xt**2 + yt**2 + zt**2))\n",
    "\t\tdec = np.degrees(np.arcsin(np.sin(lat) * np.cos(epsilon) + np.cos(lat) * np.sin(lon) * np.sin(epsilon)))\n",
    "\t\tra = np.degrees(np.arctan2((np.cos(lat) * np.cos(epsilon) * np.sin(lon) - np.sin(lat) * np.sin(epsilon)), np.cos(lon) * np.cos(lat)))\n",
    "\n",
    "\t\tra[ra>180] -= 360\n",
    "\n",
    "\t\torbitid = np.append(orbitid, oidlist)\n",
    "\t\tmjds = np.append(mjds, len(oidlist) * [i])\n",
    "\n",
    "\t\tras = np.append(ras, ra)\n",
    "\t\tdecs = np.append(decs, dec)\n",
    "\n",
    "\n",
    "\tdel x, y, z, vx, vy, vz, a, b, sim, xt, yt, zt, ox, oy, oz, observer\n",
    "\t## gather data into something useable\n",
    "\tt = tb.Table()\n",
    "\tt['AstRA(deg)'] = ras\n",
    "\tdel ras\n",
    "\t#t['RA'][t['RA'] > 180] -= 360\n",
    "\tt['AstDec(deg)'] = decs\n",
    "\tdel decs\n",
    "\tt['ObjID'] = orbitid.astype('int64')\n",
    "\tdel orbitid\n",
    "\n",
    "\tt['FieldMJD'] = mjds\n",
    "\tt['Mag'] = 20\n",
    "\n",
    "\tt['d'] = dList\n",
    "\tt['x'] = xList\n",
    "\tt['y'] = yList\n",
    "\tt['z'] = zList\n",
    "\n",
    "\t# ObjID,FieldID,FieldMJD,AstRange(km),AstRangeRate(km/s),AstRA(deg),AstRARate(deg/day),AstDec(deg),AstDecRate(deg/day),Ast-Sun(J2000x)(km),Ast-Sun(J2000y)(km),Ast-Sun(J2000z)(km),Ast-Sun(J2000vx)(km/s),Ast-Sun(J2000vy)(km/s),Ast-Sun(J2000vz)(km/s),Obs-Sun(J2000x)(km),Obs-Sun(J2000y)(km),Obs-Sun(J2000z)(km),Obs-Sun(J2000vx)(km/s),Obs-Sun(J2000vy)(km/s),Obs-Sun(J2000vz)(km/s),Sun-Ast-Obs(deg),V,V(H=0),fiveSigmaDepth,filter,MaginFilterTrue,AstrometricSigma(mas),PhotometricSigma(mag),SNR,AstrometricSigma(deg),MaginFilter,dmagDetect,dmagVignet,AstRATrue(deg),AstDecTrue(deg),detector,OBSCODE,NA\n",
    "\n",
    "\treturn t\n",
    "\n",
    "t = c1(population, mjd, progress=True)"
   ]
  }
 ],
 "metadata": {
  "kernelspec": {
   "display_name": "venv",
   "language": "python",
   "name": "python3"
  },
  "language_info": {
   "codemirror_mode": {
    "name": "ipython",
    "version": 3
   },
   "file_extension": ".py",
   "mimetype": "text/x-python",
   "name": "python",
   "nbconvert_exporter": "python",
   "pygments_lexer": "ipython3",
   "version": "3.11.0"
  },
  "orig_nbformat": 4
 },
 "nbformat": 4,
 "nbformat_minor": 2
}
