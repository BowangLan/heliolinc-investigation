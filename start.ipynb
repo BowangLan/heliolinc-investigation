{
 "cells": [
  {
   "cell_type": "code",
   "execution_count": null,
   "metadata": {},
   "outputs": [],
   "source": [
    "from utils import createObservationsSpacerocks, createRandomObjects, count_lines\n",
    "from config import HELIO_PATH\n",
    "import destnosim"
   ]
  },
  {
   "cell_type": "code",
   "execution_count": null,
   "metadata": {},
   "outputs": [],
   "source": [
    "size = 100\n",
    "t = 25\n",
    "mjd_list = [t + 60676 for t in [0.5, 0.6, 7.5, 7.6, 13.5, 13.6]]"
   ]
  },
  {
   "cell_type": "code",
   "execution_count": null,
   "metadata": {},
   "outputs": [],
   "source": [
    "objs = createRandomObjects(size)\n",
    "objs"
   ]
  },
  {
   "cell_type": "code",
   "execution_count": null,
   "metadata": {},
   "outputs": [],
   "source": [
    "pop = destnosim.ElementPopulation(objs, t)\n",
    "dets = createObservationsSpacerocks(pop, mjd_list)"
   ]
  },
  {
   "cell_type": "code",
   "execution_count": null,
   "metadata": {},
   "outputs": [],
   "source": [
    "dets"
   ]
  },
  {
   "cell_type": "code",
   "execution_count": null,
   "metadata": {},
   "outputs": [],
   "source": [
    "dets.write(\"./temp/dets.csv\", overwrite=True)"
   ]
  },
  {
   "cell_type": "code",
   "execution_count": null,
   "metadata": {},
   "outputs": [],
   "source": [
    "earth_file = HELIO_PATH / \"tests/Earth1day2020s_02a.txt\"\n",
    "obs_file = HELIO_PATH / \"tests/ObsCodes.txt\"\n",
    "colformat_file = \"colformat.txt\"\n",
    "out_pairdets_file = \"./temp/pairdets.csv\"\n",
    "out_pairs_file = \"./temp/pairs.csv\""
   ]
  },
  {
   "cell_type": "code",
   "execution_count": null,
   "metadata": {},
   "outputs": [],
   "source": [
    "from helio import run_make_tracklets\n",
    "run_make_tracklets(\"./temp/dets.csv\", earth_file, obs_file, colformat_file, out_pairdets_file, out_pairs_file)"
   ]
  },
  {
   "cell_type": "code",
   "execution_count": null,
   "metadata": {},
   "outputs": [],
   "source": [
    "with open(out_pairdets_file) as f:\n",
    "    lines = f.readlines()\n",
    "    pairdets_len = len(lines) - 1\n",
    "\n",
    "pairs_len = count_lines(out_pairs_file)\n",
    "\n",
    "print(f\"Number of lines in pairdets.csv: {pairdets_len}\")\n",
    "print(f\"Number of lines in pairs.csv: {pairs_len}\")\n",
    "pair_coverage = pairs_len / (size * len(mjd_list) / 2)\n",
    "print(f\"Pair coverage: {pair_coverage}\")"
   ]
  },
  {
   "cell_type": "code",
   "execution_count": null,
   "metadata": {},
   "outputs": [],
   "source": []
  },
  {
   "cell_type": "code",
   "execution_count": null,
   "metadata": {},
   "outputs": [],
   "source": []
  }
 ],
 "metadata": {
  "kernelspec": {
   "display_name": "Python 3 (ipykernel)",
   "language": "python",
   "name": "python3"
  },
  "language_info": {
   "codemirror_mode": {
    "name": "ipython",
    "version": 3
   },
   "file_extension": ".py",
   "mimetype": "text/x-python",
   "name": "python",
   "nbconvert_exporter": "python",
   "pygments_lexer": "ipython3",
   "version": "3.11.0"
  }
 },
 "nbformat": 4,
 "nbformat_minor": 2
}
