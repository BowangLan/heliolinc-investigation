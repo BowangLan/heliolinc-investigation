{
 "cells": [
  {
   "cell_type": "code",
   "execution_count": null,
   "metadata": {},
   "outputs": [],
   "source": [
    "from utils import createObservationsSpacerocks, createRandomObjects, count_lines\n",
    "from config import HELIO_PATH\n",
    "import destnosim"
   ]
  },
  {
   "cell_type": "code",
   "execution_count": null,
   "metadata": {},
   "outputs": [],
   "source": [
    "size = 100\n",
    "t = 25\n",
    "mjd_list = [t + 60676 for t in [0.5, 0.6, 7.5, 7.6, 13.5, 13.6]]"
   ]
  },
  {
   "cell_type": "code",
   "execution_count": null,
   "metadata": {},
   "outputs": [],
   "source": [
    "objs = createRandomObjects(size)\n",
    "objs"
   ]
  },
  {
   "cell_type": "code",
   "execution_count": null,
   "metadata": {},
   "outputs": [],
   "source": [
    "pop = destnosim.ElementPopulation(objs, t)\n",
    "dets = createObservationsSpacerocks(pop, mjd_list)"
   ]
  },
  {
   "cell_type": "code",
   "execution_count": null,
   "metadata": {},
   "outputs": [],
   "source": [
    "dets"
   ]
  },
  {
   "cell_type": "code",
   "execution_count": null,
   "metadata": {},
   "outputs": [],
   "source": [
    "dets.write(\"./temp/dets.csv\", overwrite=True)"
   ]
  },
  {
   "cell_type": "code",
   "execution_count": null,
   "metadata": {},
   "outputs": [],
   "source": [
    "earth_file = HELIO_PATH / \"tests/Earth1day2020s_02a.txt\"\n",
    "obs_file = HELIO_PATH / \"tests/ObsCodes.txt\"\n",
    "colformat_file = \"colformat.txt\"\n",
    "out_pairdets_file = \"./temp/pairdets.csv\"\n",
    "out_pairs_file = \"./temp/pairs.csv\""
   ]
  },
  {
   "cell_type": "code",
   "execution_count": null,
   "metadata": {},
   "outputs": [],
   "source": [
    "from helio import run_make_tracklets\n",
    "run_make_tracklets(\"./temp/dets.csv\", earth_file, obs_file, colformat_file, out_pairdets_file, out_pairs_file)"
   ]
  },
  {
   "cell_type": "code",
   "execution_count": null,
   "metadata": {},
   "outputs": [],
   "source": [
    "with open(out_pairdets_file) as f:\n",
    "    lines = f.readlines()\n",
    "    pairdets_len = len(lines) - 1\n",
    "\n",
    "pairs_len = count_lines(out_pairs_file)\n",
    "\n",
    "print(f\"Number of lines in pairdets.csv: {pairdets_len}\")\n",
    "print(f\"Number of lines in pairs.csv: {pairs_len}\")\n",
    "pair_coverage = pairs_len / (size * len(mjd_list) / 2)\n",
    "print(f\"Pair coverage: {pair_coverage}\")"
   ]
  },
  {
   "cell_type": "code",
   "execution_count": 2,
   "metadata": {},
   "outputs": [],
   "source": [
    "from start import *\n",
    "import pandas as pd\n",
    "helio_extracted = pd.read_feather(out_hl_extracted_file)"
   ]
  },
  {
   "cell_type": "code",
   "execution_count": 8,
   "metadata": {},
   "outputs": [
    {
     "data": {
      "text/html": [
       "<div>\n",
       "<style scoped>\n",
       "    .dataframe tbody tr th:only-of-type {\n",
       "        vertical-align: middle;\n",
       "    }\n",
       "\n",
       "    .dataframe tbody tr th {\n",
       "        vertical-align: top;\n",
       "    }\n",
       "\n",
       "    .dataframe thead th {\n",
       "        text-align: right;\n",
       "    }\n",
       "</style>\n",
       "<table border=\"1\" class=\"dataframe\">\n",
       "  <thead>\n",
       "    <tr style=\"text-align: right;\">\n",
       "      <th></th>\n",
       "      <th>idstring</th>\n",
       "      <th>clusternum</th>\n",
       "      <th>heliodist</th>\n",
       "      <th>heliovel</th>\n",
       "      <th>helioacc</th>\n",
       "    </tr>\n",
       "  </thead>\n",
       "  <tbody>\n",
       "    <tr>\n",
       "      <th>20072</th>\n",
       "      <td>1</td>\n",
       "      <td>20073</td>\n",
       "      <td>23.055</td>\n",
       "      <td>0.000</td>\n",
       "      <td>-0.0</td>\n",
       "    </tr>\n",
       "    <tr>\n",
       "      <th>20291</th>\n",
       "      <td>1</td>\n",
       "      <td>20292</td>\n",
       "      <td>23.055</td>\n",
       "      <td>0.000</td>\n",
       "      <td>-0.0</td>\n",
       "    </tr>\n",
       "    <tr>\n",
       "      <th>20826</th>\n",
       "      <td>1</td>\n",
       "      <td>20827</td>\n",
       "      <td>24.053</td>\n",
       "      <td>-3.463</td>\n",
       "      <td>-0.0</td>\n",
       "    </tr>\n",
       "    <tr>\n",
       "      <th>21017</th>\n",
       "      <td>1</td>\n",
       "      <td>21018</td>\n",
       "      <td>24.053</td>\n",
       "      <td>-3.463</td>\n",
       "      <td>-0.0</td>\n",
       "    </tr>\n",
       "    <tr>\n",
       "      <th>21201</th>\n",
       "      <td>1</td>\n",
       "      <td>21202</td>\n",
       "      <td>24.053</td>\n",
       "      <td>0.000</td>\n",
       "      <td>-0.0</td>\n",
       "    </tr>\n",
       "    <tr>\n",
       "      <th>...</th>\n",
       "      <td>...</td>\n",
       "      <td>...</td>\n",
       "      <td>...</td>\n",
       "      <td>...</td>\n",
       "      <td>...</td>\n",
       "    </tr>\n",
       "    <tr>\n",
       "      <th>35322</th>\n",
       "      <td>1</td>\n",
       "      <td>35323</td>\n",
       "      <td>37.027</td>\n",
       "      <td>0.000</td>\n",
       "      <td>-0.0</td>\n",
       "    </tr>\n",
       "    <tr>\n",
       "      <th>35495</th>\n",
       "      <td>1</td>\n",
       "      <td>35496</td>\n",
       "      <td>37.027</td>\n",
       "      <td>3.463</td>\n",
       "      <td>-0.0</td>\n",
       "    </tr>\n",
       "    <tr>\n",
       "      <th>35630</th>\n",
       "      <td>1</td>\n",
       "      <td>35631</td>\n",
       "      <td>37.027</td>\n",
       "      <td>3.463</td>\n",
       "      <td>-0.0</td>\n",
       "    </tr>\n",
       "    <tr>\n",
       "      <th>36013</th>\n",
       "      <td>1</td>\n",
       "      <td>36014</td>\n",
       "      <td>38.024</td>\n",
       "      <td>0.000</td>\n",
       "      <td>-0.0</td>\n",
       "    </tr>\n",
       "    <tr>\n",
       "      <th>36190</th>\n",
       "      <td>1</td>\n",
       "      <td>36191</td>\n",
       "      <td>38.024</td>\n",
       "      <td>0.000</td>\n",
       "      <td>-0.0</td>\n",
       "    </tr>\n",
       "  </tbody>\n",
       "</table>\n",
       "<p>100 rows × 5 columns</p>\n",
       "</div>"
      ],
      "text/plain": [
       "       idstring  clusternum  heliodist  heliovel  helioacc\n",
       "20072         1       20073     23.055     0.000      -0.0\n",
       "20291         1       20292     23.055     0.000      -0.0\n",
       "20826         1       20827     24.053    -3.463      -0.0\n",
       "21017         1       21018     24.053    -3.463      -0.0\n",
       "21201         1       21202     24.053     0.000      -0.0\n",
       "...         ...         ...        ...       ...       ...\n",
       "35322         1       35323     37.027     0.000      -0.0\n",
       "35495         1       35496     37.027     3.463      -0.0\n",
       "35630         1       35631     37.027     3.463      -0.0\n",
       "36013         1       36014     38.024     0.000      -0.0\n",
       "36190         1       36191     38.024     0.000      -0.0\n",
       "\n",
       "[100 rows x 5 columns]"
      ]
     },
     "execution_count": 8,
     "metadata": {},
     "output_type": "execute_result"
    }
   ],
   "source": [
    "helio_extracted[helio_extracted['idstring'] == 1]"
   ]
  },
  {
   "cell_type": "code",
   "execution_count": 19,
   "metadata": {},
   "outputs": [
    {
     "data": {
      "text/plain": [
       "(array([[0., 0., 1., 0., 0., 0., 0., 1., 0., 0., 0., 1.],\n",
       "        [0., 0., 1., 0., 0., 0., 0., 1., 0., 0., 0., 1.],\n",
       "        [0., 0., 0., 0., 0., 0., 0., 0., 0., 0., 0., 0.],\n",
       "        [0., 0., 2., 0., 0., 0., 0., 2., 0., 0., 0., 2.],\n",
       "        [0., 0., 0., 0., 0., 0., 0., 0., 0., 0., 0., 0.],\n",
       "        [0., 0., 2., 0., 0., 0., 0., 2., 0., 0., 0., 2.],\n",
       "        [2., 0., 2., 0., 0., 0., 0., 2., 0., 0., 0., 2.],\n",
       "        [0., 0., 0., 0., 0., 0., 0., 0., 0., 0., 0., 0.],\n",
       "        [0., 0., 2., 0., 0., 0., 0., 2., 0., 0., 0., 2.],\n",
       "        [0., 0., 0., 0., 0., 0., 0., 0., 0., 0., 0., 0.],\n",
       "        [0., 0., 0., 0., 2., 0., 0., 2., 0., 2., 0., 0.],\n",
       "        [0., 0., 0., 0., 2., 0., 0., 2., 0., 2., 0., 0.]]),\n",
       " array([ 7.088     ,  7.67008333,  8.25216667,  8.83425   ,  9.41633333,\n",
       "         9.99841667, 10.5805    , 11.16258333, 11.74466667, 12.32675   ,\n",
       "        12.90883333, 13.49091667, 14.073     ]),\n",
       " array([-1.21200000e+01, -1.03885833e+01, -8.65716667e+00, -6.92575000e+00,\n",
       "        -5.19433333e+00, -3.46291667e+00, -1.73150000e+00, -8.33333333e-05,\n",
       "         1.73133333e+00,  3.46275000e+00,  5.19416667e+00,  6.92558333e+00,\n",
       "         8.65700000e+00]),\n",
       " <matplotlib.collections.QuadMesh at 0x1424e7310>)"
      ]
     },
     "execution_count": 19,
     "metadata": {},
     "output_type": "execute_result"
    },
    {
     "data": {
      "image/png": "[encoded data removed]",
      "text/plain": [
       "<Figure size 640x480 with 1 Axes>"
      ]
     },
     "metadata": {},
     "output_type": "display_data"
    }
   ],
   "source": [
    "import matplotlib.pyplot as plt\n",
    "dist = helio_extracted[helio_extracted['idstring'] == 3].iloc[:, 2]\n",
    "vel = helio_extracted[helio_extracted['idstring'] == 3].iloc[:, 3]\n",
    "plt.hist2d(dist, vel, bins=12)"
   ]
  },
  {
   "cell_type": "code",
   "execution_count": 17,
   "metadata": {},
   "outputs": [
    {
     "data": {
      "text/html": [
       "<div>\n",
       "<style scoped>\n",
       "    .dataframe tbody tr th:only-of-type {\n",
       "        vertical-align: middle;\n",
       "    }\n",
       "\n",
       "    .dataframe tbody tr th {\n",
       "        vertical-align: top;\n",
       "    }\n",
       "\n",
       "    .dataframe thead th {\n",
       "        text-align: right;\n",
       "    }\n",
       "</style>\n",
       "<table border=\"1\" class=\"dataframe\">\n",
       "  <thead>\n",
       "    <tr style=\"text-align: right;\">\n",
       "      <th></th>\n",
       "      <th>ObjID</th>\n",
       "      <th>helioDist</th>\n",
       "      <th>helioVel</th>\n",
       "      <th>helioAcc</th>\n",
       "    </tr>\n",
       "  </thead>\n",
       "  <tbody>\n",
       "    <tr>\n",
       "      <th>0</th>\n",
       "      <td>0</td>\n",
       "      <td>40.659220</td>\n",
       "      <td>-0.000303</td>\n",
       "      <td>-1.939129e-09</td>\n",
       "    </tr>\n",
       "    <tr>\n",
       "      <th>1</th>\n",
       "      <td>1</td>\n",
       "      <td>32.536460</td>\n",
       "      <td>0.000751</td>\n",
       "      <td>-1.104753e-07</td>\n",
       "    </tr>\n",
       "    <tr>\n",
       "      <th>2</th>\n",
       "      <td>2</td>\n",
       "      <td>41.393112</td>\n",
       "      <td>-0.001480</td>\n",
       "      <td>-5.767940e-08</td>\n",
       "    </tr>\n",
       "    <tr>\n",
       "      <th>3</th>\n",
       "      <td>3</td>\n",
       "      <td>12.869938</td>\n",
       "      <td>-0.002849</td>\n",
       "      <td>2.210944e-07</td>\n",
       "    </tr>\n",
       "    <tr>\n",
       "      <th>4</th>\n",
       "      <td>4</td>\n",
       "      <td>59.998567</td>\n",
       "      <td>-0.000244</td>\n",
       "      <td>-9.471558e-09</td>\n",
       "    </tr>\n",
       "    <tr>\n",
       "      <th>...</th>\n",
       "      <td>...</td>\n",
       "      <td>...</td>\n",
       "      <td>...</td>\n",
       "      <td>...</td>\n",
       "    </tr>\n",
       "    <tr>\n",
       "      <th>795</th>\n",
       "      <td>795</td>\n",
       "      <td>55.929986</td>\n",
       "      <td>-0.000012</td>\n",
       "      <td>-1.243388e-08</td>\n",
       "    </tr>\n",
       "    <tr>\n",
       "      <th>796</th>\n",
       "      <td>796</td>\n",
       "      <td>39.334077</td>\n",
       "      <td>-0.002473</td>\n",
       "      <td>-8.968995e-08</td>\n",
       "    </tr>\n",
       "    <tr>\n",
       "      <th>797</th>\n",
       "      <td>797</td>\n",
       "      <td>13.889625</td>\n",
       "      <td>-0.000319</td>\n",
       "      <td>2.813367e-07</td>\n",
       "    </tr>\n",
       "    <tr>\n",
       "      <th>798</th>\n",
       "      <td>798</td>\n",
       "      <td>18.169668</td>\n",
       "      <td>0.002261</td>\n",
       "      <td>-4.192750e-07</td>\n",
       "    </tr>\n",
       "    <tr>\n",
       "      <th>799</th>\n",
       "      <td>799</td>\n",
       "      <td>27.964093</td>\n",
       "      <td>-0.001396</td>\n",
       "      <td>-1.513202e-07</td>\n",
       "    </tr>\n",
       "  </tbody>\n",
       "</table>\n",
       "<p>800 rows × 4 columns</p>\n",
       "</div>"
      ],
      "text/plain": [
       "     ObjID  helioDist  helioVel      helioAcc\n",
       "0        0  40.659220 -0.000303 -1.939129e-09\n",
       "1        1  32.536460  0.000751 -1.104753e-07\n",
       "2        2  41.393112 -0.001480 -5.767940e-08\n",
       "3        3  12.869938 -0.002849  2.210944e-07\n",
       "4        4  59.998567 -0.000244 -9.471558e-09\n",
       "..     ...        ...       ...           ...\n",
       "795    795  55.929986 -0.000012 -1.243388e-08\n",
       "796    796  39.334077 -0.002473 -8.968995e-08\n",
       "797    797  13.889625 -0.000319  2.813367e-07\n",
       "798    798  18.169668  0.002261 -4.192750e-07\n",
       "799    799  27.964093 -0.001396 -1.513202e-07\n",
       "\n",
       "[800 rows x 4 columns]"
      ]
     },
     "execution_count": 17,
     "metadata": {},
     "output_type": "execute_result"
    }
   ],
   "source": [
    "objTable = pd.read_feather(object_table_file)\n",
    "objTable[objTable['ObjID'] == 4]"
   ]
  },
  {
   "cell_type": "code",
   "execution_count": 24,
   "metadata": {},
   "outputs": [
    {
     "data": {
      "text/plain": [
       "337.555720653789"
      ]
     },
     "execution_count": 24,
     "metadata": {},
     "output_type": "execute_result"
    }
   ],
   "source": [
    "helio_extracted.size / helio_extracted['idstring'].unique().size"
   ]
  },
  {
   "cell_type": "code",
   "execution_count": null,
   "metadata": {},
   "outputs": [],
   "source": []
  }
 ],
 "metadata": {
  "kernelspec": {
   "display_name": "Python 3 (ipykernel)",
   "language": "python",
   "name": "python3"
  },
  "language_info": {
   "codemirror_mode": {
    "name": "ipython",
    "version": 3
   },
   "file_extension": ".py",
   "mimetype": "text/x-python",
   "name": "python",
   "nbconvert_exporter": "python",
   "pygments_lexer": "ipython3",
   "version": "3.11.0"
  }
 },
 "nbformat": 4,
 "nbformat_minor": 2
}
